{
 "cells": [
  {
   "cell_type": "code",
   "execution_count": 109,
   "metadata": {
    "collapsed": false
   },
   "outputs": [],
   "source": [
    "mydir='C:/Users/stif/Desktop/Python commerces/MONOPRIX/'"
   ]
  },
  {
   "cell_type": "code",
   "execution_count": 110,
   "metadata": {
    "collapsed": false
   },
   "outputs": [],
   "source": [
    "from bs4 import BeautifulSoup"
   ]
  },
  {
   "cell_type": "code",
   "execution_count": 111,
   "metadata": {
    "collapsed": true
   },
   "outputs": [],
   "source": [
    "def html2csv(inp,out,w_a):\n",
    "    infile=open(inp,'r')\n",
    "    #Reading file\n",
    "    inline=infile.readline()\n",
    "    myhtml=''\n",
    "    while inline.find('<li id=\"store')<0:\n",
    "        inline=infile.readline()\n",
    "    while inline.find('searchStores.push')<0:\n",
    "        myhtml=myhtml+inline\n",
    "        inline=infile.readline()\n",
    "    #BeautifulSoup\n",
    "    soup=BeautifulSoup(myhtml,\"html.parser\").text\n",
    "    #Exporting data\n",
    "    outfile=open(out,w_a)\n",
    "    i=0\n",
    "    n=0\n",
    "    tab=soup.split('\\n')\n",
    "    #print(tab)\n",
    "    while i<len(tab):\n",
    "        line=tab[i].strip()\n",
    "        if line!='':\n",
    "            n+=1\n",
    "            outfile.write(line)\n",
    "            if n==3:\n",
    "                n=0\n",
    "                outfile.write('\\n')\n",
    "            else:\n",
    "                outfile.write(';')\n",
    "        i+=1\n",
    "    outfile.close()\n",
    "    return 1"
   ]
  },
  {
   "cell_type": "code",
   "execution_count": 112,
   "metadata": {
    "collapsed": false
   },
   "outputs": [],
   "source": [
    "dept=[75,92,93,94,77,78,91,95]\n",
    "for elem in dept:\n",
    "    inp=mydir+'Trouver un magasin - Monoprix_'+str(elem)+'.fr.htm'\n",
    "    out=mydir+'monop.csv'\n",
    "    w_a='a'\n",
    "    if elem==75:\n",
    "        w_a='w'\n",
    "    html2csv(inp,out,w_a)"
   ]
  }
 ],
 "metadata": {
  "kernelspec": {
   "display_name": "Python 3",
   "language": "python",
   "name": "python3"
  },
  "language_info": {
   "codemirror_mode": {
    "name": "ipython",
    "version": 3
   },
   "file_extension": ".py",
   "mimetype": "text/x-python",
   "name": "python",
   "nbconvert_exporter": "python",
   "pygments_lexer": "ipython3",
   "version": "3.5.2"
  }
 },
 "nbformat": 4,
 "nbformat_minor": 1
}
